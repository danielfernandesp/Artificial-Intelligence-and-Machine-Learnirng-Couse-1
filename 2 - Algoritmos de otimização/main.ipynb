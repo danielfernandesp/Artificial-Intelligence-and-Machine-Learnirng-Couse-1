{
 "cells": [
  {
   "cell_type": "markdown",
   "id": "a4a24702",
   "metadata": {},
   "source": [
    "### Algoritmos de otimização - calendário de voos"
   ]
  },
  {
   "cell_type": "markdown",
   "id": "1edc6a92",
   "metadata": {},
   "source": [
    "#### Representação do problema"
   ]
  },
  {
   "cell_type": "code",
   "execution_count": 17,
   "id": "b99f1e62",
   "metadata": {},
   "outputs": [],
   "source": [
    "pessoas = [('Lisboa', 'LIS'),\n",
    "           ('Madrid', 'MAD'),\n",
    "           ('Paris', 'CDG'),\n",
    "           ('Dublin', 'DUB'),\n",
    "           ('Bruxelas', 'BRU'),\n",
    "           ('Londres', 'LHR')]"
   ]
  },
  {
   "cell_type": "code",
   "execution_count": 18,
   "id": "6cce9575",
   "metadata": {},
   "outputs": [
    {
     "data": {
      "text/plain": [
       "('Londres', 'LHR')"
      ]
     },
     "execution_count": 18,
     "metadata": {},
     "output_type": "execute_result"
    }
   ],
   "source": [
    "pessoas[5]"
   ]
  },
  {
   "cell_type": "code",
   "execution_count": 19,
   "id": "fe8293e5",
   "metadata": {},
   "outputs": [],
   "source": [
    "destino = 'FCO'"
   ]
  },
  {
   "cell_type": "code",
   "execution_count": 20,
   "id": "1b707556",
   "metadata": {},
   "outputs": [],
   "source": [
    "voos = {('BRU', 'FCO'): ['15:44', '18:55', 382]}"
   ]
  },
  {
   "cell_type": "code",
   "execution_count": 21,
   "id": "eb38a500",
   "metadata": {},
   "outputs": [
    {
     "data": {
      "text/plain": [
       "{('BRU', 'FCO'): ['15:44', '18:55', 382]}"
      ]
     },
     "execution_count": 21,
     "metadata": {},
     "output_type": "execute_result"
    }
   ],
   "source": [
    "voos"
   ]
  },
  {
   "cell_type": "code",
   "execution_count": 22,
   "id": "5170ea53",
   "metadata": {},
   "outputs": [
    {
     "data": {
      "text/plain": [
       "['15:44', '18:55', 382]"
      ]
     },
     "execution_count": 22,
     "metadata": {},
     "output_type": "execute_result"
    }
   ],
   "source": [
    "voos[('BRU', 'FCO')]"
   ]
  },
  {
   "cell_type": "code",
   "execution_count": 23,
   "id": "a1e60d39",
   "metadata": {},
   "outputs": [
    {
     "data": {
      "text/plain": [
       "('15:44', '18:55', 382)"
      ]
     },
     "execution_count": 23,
     "metadata": {},
     "output_type": "execute_result"
    }
   ],
   "source": [
    "voos[('BRU', 'FCO')][0], voos[('BRU', 'FCO')][1], voos[('BRU', 'FCO')][2]"
   ]
  },
  {
   "cell_type": "code",
   "execution_count": 28,
   "id": "b9f128e1",
   "metadata": {},
   "outputs": [],
   "source": [
    "voos = {}\n",
    "for linha in open('flights.txt'):\n",
    "  #print(linha)\n",
    "  #print(linha.split(','))\n",
    "  origem, destino, saida, chegada, preco = linha.split(',')\n",
    "  voos.setdefault((origem, destino), [])\n",
    "  voos[(origem, destino)].append((saida, chegada, int(preco)))"
   ]
  },
  {
   "cell_type": "code",
   "execution_count": 29,
   "id": "37229bd1",
   "metadata": {},
   "outputs": [
    {
     "data": {
      "text/plain": [
       "{('FCO', 'LIS'): [('6:19', '8:13', 239),\n",
       "  ('8:04', '10:59', 136),\n",
       "  ('9:31', '11:43', 210),\n",
       "  ('11:07', '13:24', 171),\n",
       "  ('12:31', '14:02', 234),\n",
       "  ('14:05', '15:47', 226),\n",
       "  ('15:07', '17:21', 129),\n",
       "  ('16:35', '18:56', 144),\n",
       "  ('18:25', '20:34', 205),\n",
       "  ('20:05', '21:44', 172)],\n",
       " ('LIS', 'FCO'): [('6:11', '8:31', 249),\n",
       "  ('7:39', '10:24', 219),\n",
       "  ('9:15', '12:03', 99),\n",
       "  ('11:08', '13:07', 175),\n",
       "  ('12:18', '14:56', 172),\n",
       "  ('13:37', '15:08', 250),\n",
       "  ('15:03', '16:42', 135),\n",
       "  ('16:51', '19:09', 147),\n",
       "  ('18:12', '20:17', 242),\n",
       "  ('20:05', '22:06', 261)],\n",
       " ('FCO', 'MAD'): [('6:03', '8:43', 219),\n",
       "  ('7:50', '10:08', 164),\n",
       "  ('9:11', '10:42', 172),\n",
       "  ('10:33', '13:11', 132),\n",
       "  ('12:08', '14:47', 231),\n",
       "  ('14:19', '17:09', 190),\n",
       "  ('15:04', '17:23', 189),\n",
       "  ('17:06', '20:00', 95),\n",
       "  ('18:33', '20:22', 143),\n",
       "  ('19:32', '21:25', 160)],\n",
       " ('MAD', 'FCO'): [('6:05', '8:32', 174),\n",
       "  ('8:25', '10:34', 157),\n",
       "  ('9:42', '11:32', 169),\n",
       "  ('11:01', '12:39', 260),\n",
       "  ('12:44', '14:17', 134),\n",
       "  ('14:22', '16:32', 126),\n",
       "  ('15:58', '18:40', 173),\n",
       "  ('16:43', '19:00', 246),\n",
       "  ('18:48', '21:45', 246),\n",
       "  ('19:50', '22:24', 269)],\n",
       " ('FCO', 'CDG'): [('6:33', '9:14', 172),\n",
       "  ('8:23', '11:07', 143),\n",
       "  ('9:25', '12:46', 295),\n",
       "  ('11:08', '14:38', 262),\n",
       "  ('12:37', '15:05', 170),\n",
       "  ('14:08', '16:09', 232),\n",
       "  ('15:23', '18:49', 150),\n",
       "  ('16:50', '19:26', 304),\n",
       "  ('18:07', '21:30', 355),\n",
       "  ('20:27', '23:42', 169)],\n",
       " ('CDG', 'FCO'): [('6:25', '9:30', 335),\n",
       "  ('7:34', '9:40', 324),\n",
       "  ('9:15', '12:29', 225),\n",
       "  ('11:28', '14:40', 248),\n",
       "  ('12:05', '15:30', 330),\n",
       "  ('14:01', '17:24', 338),\n",
       "  ('15:34', '18:11', 326),\n",
       "  ('17:07', '20:04', 291),\n",
       "  ('18:23', '21:35', 134),\n",
       "  ('19:53', '22:21', 173)],\n",
       " ('FCO', 'DUB'): [('6:39', '8:09', 86),\n",
       "  ('8:23', '10:28', 149),\n",
       "  ('9:58', '11:18', 130),\n",
       "  ('10:33', '12:03', 74),\n",
       "  ('12:08', '14:05', 142),\n",
       "  ('13:39', '15:30', 74),\n",
       "  ('15:25', '16:58', 62),\n",
       "  ('17:03', '18:03', 103),\n",
       "  ('18:24', '20:49', 124),\n",
       "  ('19:58', '21:23', 142)],\n",
       " ('DUB', 'FCO'): [('6:17', '8:26', 89),\n",
       "  ('8:04', '10:11', 95),\n",
       "  ('9:45', '11:50', 172),\n",
       "  ('11:16', '13:29', 83),\n",
       "  ('12:34', '15:02', 109),\n",
       "  ('13:40', '15:37', 138),\n",
       "  ('15:27', '17:18', 151),\n",
       "  ('17:11', '18:30', 108),\n",
       "  ('18:34', '19:36', 136),\n",
       "  ('20:17', '22:22', 102)],\n",
       " ('FCO', 'BRU'): [('6:09', '9:49', 414),\n",
       "  ('7:57', '11:15', 347),\n",
       "  ('9:49', '13:51', 229),\n",
       "  ('10:51', '14:16', 256),\n",
       "  ('12:20', '16:34', 500),\n",
       "  ('14:20', '17:32', 332),\n",
       "  ('15:49', '20:10', 497),\n",
       "  ('17:14', '20:59', 277),\n",
       "  ('18:44', '22:42', 351),\n",
       "  ('19:57', '23:15', 512)],\n",
       " ('BRU', 'FCO'): [('6:12', '10:22', 230),\n",
       "  ('7:53', '11:37', 433),\n",
       "  ('9:08', '12:12', 364),\n",
       "  ('10:30', '14:57', 290),\n",
       "  ('12:19', '15:25', 342),\n",
       "  ('13:54', '18:02', 294),\n",
       "  ('15:44', '18:55', 382),\n",
       "  ('16:52', '20:48', 448),\n",
       "  ('18:26', '21:29', 464),\n",
       "  ('20:07', '23:27', 473)],\n",
       " ('FCO', 'LHR'): [('6:58', '9:01', 238),\n",
       "  ('8:19', '11:16', 122),\n",
       "  ('9:58', '12:56', 249),\n",
       "  ('10:32', '13:16', 139),\n",
       "  ('12:01', '13:41', 267),\n",
       "  ('13:37', '15:33', 142),\n",
       "  ('15:50', '18:45', 243),\n",
       "  ('16:33', '18:15', 253),\n",
       "  ('18:17', '21:04', 259),\n",
       "  ('19:46', '21:45', 214)],\n",
       " ('LHR', 'FCO'): [('6:08', '8:06', 224),\n",
       "  ('8:27', '10:45', 139),\n",
       "  ('9:15', '12:14', 247),\n",
       "  ('10:53', '13:36', 189),\n",
       "  ('12:08', '14:59', 149),\n",
       "  ('13:40', '15:38', 137),\n",
       "  ('15:23', '17:25', 232),\n",
       "  ('17:08', '19:08', 262),\n",
       "  ('18:35', '20:28', 204),\n",
       "  ('20:30', '23:11', 114)]}"
      ]
     },
     "execution_count": 29,
     "metadata": {},
     "output_type": "execute_result"
    }
   ],
   "source": [
    "voos"
   ]
  },
  {
   "cell_type": "code",
   "execution_count": 30,
   "id": "3da0d750",
   "metadata": {},
   "outputs": [
    {
     "data": {
      "text/plain": [
       "[('6:11', '8:31', 249),\n",
       " ('7:39', '10:24', 219),\n",
       " ('9:15', '12:03', 99),\n",
       " ('11:08', '13:07', 175),\n",
       " ('12:18', '14:56', 172),\n",
       " ('13:37', '15:08', 250),\n",
       " ('15:03', '16:42', 135),\n",
       " ('16:51', '19:09', 147),\n",
       " ('18:12', '20:17', 242),\n",
       " ('20:05', '22:06', 261)]"
      ]
     },
     "execution_count": 30,
     "metadata": {},
     "output_type": "execute_result"
    }
   ],
   "source": [
    "voos[('LIS', 'FCO')]"
   ]
  },
  {
   "cell_type": "code",
   "execution_count": 31,
   "id": "253f8d89",
   "metadata": {},
   "outputs": [
    {
     "data": {
      "text/plain": [
       "[('6:19', '8:13', 239),\n",
       " ('8:04', '10:59', 136),\n",
       " ('9:31', '11:43', 210),\n",
       " ('11:07', '13:24', 171),\n",
       " ('12:31', '14:02', 234),\n",
       " ('14:05', '15:47', 226),\n",
       " ('15:07', '17:21', 129),\n",
       " ('16:35', '18:56', 144),\n",
       " ('18:25', '20:34', 205),\n",
       " ('20:05', '21:44', 172)]"
      ]
     },
     "execution_count": 31,
     "metadata": {},
     "output_type": "execute_result"
    }
   ],
   "source": [
    "voos[('FCO', 'LIS')]"
   ]
  },
  {
   "cell_type": "code",
   "execution_count": 32,
   "id": "ab9693d8",
   "metadata": {},
   "outputs": [
    {
     "data": {
      "text/plain": [
       "12"
      ]
     },
     "execution_count": 32,
     "metadata": {},
     "output_type": "execute_result"
    }
   ],
   "source": [
    "agenda = [1,2, 3,2, 7,3, 6,3, 2,4, 5,3]\n",
    "len(agenda)"
   ]
  },
  {
   "cell_type": "code",
   "execution_count": 33,
   "id": "0ccac705",
   "metadata": {},
   "outputs": [
    {
     "data": {
      "text/plain": [
       "6"
      ]
     },
     "execution_count": 33,
     "metadata": {},
     "output_type": "execute_result"
    }
   ],
   "source": [
    "len(agenda) // 2"
   ]
  },
  {
   "cell_type": "code",
   "execution_count": 34,
   "id": "212ae69f",
   "metadata": {},
   "outputs": [
    {
     "data": {
      "text/plain": [
       "'MAD'"
      ]
     },
     "execution_count": 34,
     "metadata": {},
     "output_type": "execute_result"
    }
   ],
   "source": [
    "pessoas[1][1]"
   ]
  },
  {
   "cell_type": "code",
   "execution_count": 35,
   "id": "9cf280ff",
   "metadata": {},
   "outputs": [],
   "source": [
    "def imprimir_voos(agenda):\n",
    "  id_voo = -1\n",
    "  total_preco = 0\n",
    "  for i in range(len(agenda) // 2):\n",
    "    nome = pessoas[i][0]\n",
    "    origem = pessoas[i][1]\n",
    "    id_voo += 1\n",
    "    ida = voos[(origem, destino)][agenda[id_voo]]\n",
    "    total_preco += ida[2]\n",
    "    id_voo += 1\n",
    "    volta = voos[(destino, origem)][agenda[id_voo]]\n",
    "    total_preco += volta[2]\n",
    "    print('%10s%10s %5s-%5s %3s %5s-%5s %3s' % (nome, origem, ida[0], ida[1], ida[2],\n",
    "                                                volta[0], volta[1], volta[2]))\n",
    "  print('Preço total: ', total_preco)"
   ]
  },
  {
   "cell_type": "code",
   "execution_count": 36,
   "id": "edaba3b0",
   "metadata": {},
   "outputs": [
    {
     "name": "stdout",
     "output_type": "stream",
     "text": [
      "    Lisboa       LIS  7:39-10:24 219  6:19- 8:13 239\n",
      "    Madrid       MAD 11:01-12:39 260  9:11-10:42 172\n",
      "     Paris       CDG 17:07-20:04 291  8:23-11:07 143\n",
      "    Dublin       DUB 15:27-17:18 151 10:33-12:03  74\n",
      "  Bruxelas       BRU  9:08-12:12 364 12:20-16:34 500\n",
      "   Londres       LHR 13:40-15:38 137 10:32-13:16 139\n",
      "Preço total:  2689\n"
     ]
    }
   ],
   "source": [
    "agenda = [1,0, 3,2, 7,1, 6,3, 2,4, 5,3]\n",
    "imprimir_voos(agenda)"
   ]
  },
  {
   "cell_type": "markdown",
   "id": "1569420c",
   "metadata": {},
   "source": [
    "#### Fitness function\n",
    "Sempre é usada para definir o preço total para, em seguida, o algoritmo definir se a solução é boa ou não"
   ]
  },
  {
   "cell_type": "code",
   "execution_count": 38,
   "id": "96503646",
   "metadata": {},
   "outputs": [],
   "source": [
    "def fitness_function(agenda):\n",
    "  id_voo = -1\n",
    "  total_preco = 0\n",
    "  for i in range(len(agenda) // 2):\n",
    "    origem = pessoas[i][1]\n",
    "    id_voo += 1\n",
    "    ida = voos[(origem, destino)][agenda[id_voo]]\n",
    "    total_preco += ida[2]\n",
    "    id_voo += 1\n",
    "    volta = voos[(destino, origem)][agenda[id_voo]]\n",
    "    total_preco += volta[2]\n",
    "  \n",
    "  return total_preco"
   ]
  },
  {
   "cell_type": "code",
   "execution_count": 39,
   "id": "7a629bb3",
   "metadata": {},
   "outputs": [
    {
     "data": {
      "text/plain": [
       "2619"
      ]
     },
     "execution_count": 39,
     "metadata": {},
     "output_type": "execute_result"
    }
   ],
   "source": [
    "agenda = [1,7, 3,1, 1,1, 6,3, 2,4, 5,3]\n",
    "fitness_function(agenda)"
   ]
  },
  {
   "cell_type": "code",
   "execution_count": 37,
   "id": "427d6e5c",
   "metadata": {
    "collapsed": true
   },
   "outputs": [
    {
     "name": "stdout",
     "output_type": "stream",
     "text": [
      "Collecting mlrose\n",
      "  Downloading mlrose-1.3.0-py3-none-any.whl (27 kB)\n",
      "Requirement already satisfied: numpy in c:\\users\\danie\\anaconda3\\lib\\site-packages (from mlrose) (1.24.3)\n",
      "Requirement already satisfied: scipy in c:\\users\\danie\\anaconda3\\lib\\site-packages (from mlrose) (1.10.1)\n",
      "Collecting sklearn (from mlrose)\n",
      "  Downloading sklearn-0.0.post11.tar.gz (3.6 kB)\n",
      "  Preparing metadata (setup.py): started\n",
      "  Preparing metadata (setup.py): finished with status 'done'\n",
      "Building wheels for collected packages: sklearn\n",
      "  Building wheel for sklearn (setup.py): started\n",
      "  Building wheel for sklearn (setup.py): finished with status 'done'\n",
      "  Created wheel for sklearn: filename=sklearn-0.0.post11-py3-none-any.whl size=2978 sha256=b243817cd5867995f857d31d499d6c6a244aa927e549149145f6c3ba88c3f14d\n",
      "  Stored in directory: c:\\users\\danie\\appdata\\local\\pip\\cache\\wheels\\52\\cc\\47\\500a56407c060a5d18bda9aa3ec2daf4721b8448ee4b268840\n",
      "Successfully built sklearn\n",
      "Installing collected packages: sklearn, mlrose\n",
      "Successfully installed mlrose-1.3.0 sklearn-0.0.post11\n"
     ]
    }
   ],
   "source": [
    "#Instalando biblioteca de otimização mlorse\n",
    "#!pip install mlrose"
   ]
  },
  {
   "cell_type": "code",
   "execution_count": 41,
   "id": "ee4d2ccd",
   "metadata": {},
   "outputs": [],
   "source": [
    "import six\n",
    "import sys\n",
    "sys.modules['sklearn.externals.six'] = six\n",
    "import mlrose"
   ]
  },
  {
   "cell_type": "code",
   "execution_count": 42,
   "id": "6a2d06fd",
   "metadata": {},
   "outputs": [],
   "source": [
    "fitness = mlrose.CustomFitness(fitness_function)"
   ]
  },
  {
   "cell_type": "code",
   "execution_count": 43,
   "id": "7837d5ac",
   "metadata": {},
   "outputs": [],
   "source": [
    "# length = 12 voos, maximize = False pois é problema de minimização,\n",
    "# max_value = 10 pois vamos gerar entre o total de 10 voos\n",
    "problema = mlrose.DiscreteOpt(length=12, fitness_fn=fitness, \n",
    "                              maximize = False, max_val = 10)"
   ]
  }
 ],
 "metadata": {
  "kernelspec": {
   "display_name": "Python 3 (ipykernel)",
   "language": "python",
   "name": "python3"
  },
  "language_info": {
   "codemirror_mode": {
    "name": "ipython",
    "version": 3
   },
   "file_extension": ".py",
   "mimetype": "text/x-python",
   "name": "python",
   "nbconvert_exporter": "python",
   "pygments_lexer": "ipython3",
   "version": "3.11.4"
  }
 },
 "nbformat": 4,
 "nbformat_minor": 5
}
